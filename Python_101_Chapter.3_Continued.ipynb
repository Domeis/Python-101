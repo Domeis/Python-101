{
 "cells": [
  {
   "cell_type": "markdown",
   "metadata": {},
   "source": [
    "# <font color = Blue> Overview </font>\n",
    "### ~~1. Dict~~\n",
    "### ~~2. Set~~\n",
    "### ~~3. List, Set, and Dict Comprehensions~~\n",
    "### 4. Functions\n",
    "### 5. Files and the Operating system\n",
    "\n",
    "\n",
    "> Note : Parentheses () = 괄호, Square bracket [] = 대괄호, Curly braces {} = 중괄호, Angular brackets <> = 각괄호"
   ]
  },
  {
   "cell_type": "markdown",
   "metadata": {},
   "source": [
    "### 1. Dict (딕셔너리) \n",
    "<div class=\"alert alert-block alert-info\">\n",
    "<font color = black> \n",
    "-   Definition : A unordered collection of items. AKA \"hash map\", \"associative array\"<br>\n",
    "-   Characteristics: Consists of Immutable key(키) and mutable value(값) and colon in between key and value <br> \n",
    "-   Uses : optimized to retrieve values when the key is known, describing a certain object <br>\n",
    "-  Creating a dict : use curly braces(중괄호) and colons to separate keys and values. <br>    \n",
    "<div style =\"margin-left:110px\">  딕셔너리를 선언할때는 중괄호를 사용합니다, 키 와 값 사이에 콜론을 삽입합니다. \n",
    "</font> </div>\n",
    "\n",
    "###### [Click here for more examples and methods you can use on dictionaries](https://www.programiz.com/python-programming/dictionary)\n"
   ]
  },
  {
   "cell_type": "code",
   "execution_count": 4,
   "metadata": {},
   "outputs": [
    {
     "data": {
      "text/plain": [
       "{'a': 'some value', 'b': [1, 2, 3, 4]}"
      ]
     },
     "execution_count": 4,
     "metadata": {},
     "output_type": "execute_result"
    }
   ],
   "source": [
    "# Creating dict examples\n",
    "empty_dict = {} \n",
    "d1 = {'a' : 'some value', 'b' : [1, 2, 3, 4]}\n",
    "\n",
    "d1"
   ]
  },
  {
   "cell_type": "code",
   "execution_count": null,
   "metadata": {},
   "outputs": [],
   "source": []
  },
  {
   "cell_type": "code",
   "execution_count": 6,
   "metadata": {},
   "outputs": [
    {
     "data": {
      "text/plain": [
       "{'Yoon': 1, 'YongEun': 2, 'Hijo': 3, 'Whani': 4}"
      ]
     },
     "execution_count": 6,
     "metadata": {},
     "output_type": "execute_result"
    }
   ],
   "source": [
    "# Another way to create dicts through dict literal \n",
    "HahnLab = dict( Yoon = 1, YongEun = 2, Hijo = 3, Whani = 4)\n",
    "HahnLab"
   ]
  },
  {
   "cell_type": "code",
   "execution_count": null,
   "metadata": {},
   "outputs": [],
   "source": []
  },
  {
   "cell_type": "code",
   "execution_count": 7,
   "metadata": {},
   "outputs": [
    {
     "data": {
      "text/plain": [
       "{'a': 'some value', 'b': [1, 2, 3, 4], 7: 'an integer'}"
      ]
     },
     "execution_count": 7,
     "metadata": {},
     "output_type": "execute_result"
    }
   ],
   "source": [
    "# Inserting new elements \n",
    "d1[7] = 'an integer'\n",
    "\n",
    "d1"
   ]
  },
  {
   "cell_type": "code",
   "execution_count": null,
   "metadata": {},
   "outputs": [],
   "source": []
  },
  {
   "cell_type": "code",
   "execution_count": 8,
   "metadata": {},
   "outputs": [
    {
     "data": {
      "text/plain": [
       "[1, 2, 3, 4]"
      ]
     },
     "execution_count": 8,
     "metadata": {},
     "output_type": "execute_result"
    }
   ],
   "source": [
    "# Accessing elements (Must access through keys not index)\n",
    "d1['b'] "
   ]
  },
  {
   "cell_type": "code",
   "execution_count": null,
   "metadata": {},
   "outputs": [],
   "source": []
  },
  {
   "cell_type": "code",
   "execution_count": 9,
   "metadata": {},
   "outputs": [
    {
     "data": {
      "text/plain": [
       "{'a': 'some value', 'b': [1, 2, 3, 4]}"
      ]
     },
     "execution_count": 9,
     "metadata": {},
     "output_type": "execute_result"
    }
   ],
   "source": [
    "# Deleting values using \"del\" keyword or the \"pop\" method (pop returns the item removed)\n",
    "# Del method\n",
    "del d1[7]\n",
    "d1"
   ]
  },
  {
   "cell_type": "code",
   "execution_count": 10,
   "metadata": {},
   "outputs": [
    {
     "data": {
      "text/plain": [
       "[1, 2, 3, 4]"
      ]
     },
     "execution_count": 10,
     "metadata": {},
     "output_type": "execute_result"
    }
   ],
   "source": [
    "# Pop method\n",
    "d1.pop('b')"
   ]
  },
  {
   "cell_type": "code",
   "execution_count": 11,
   "metadata": {},
   "outputs": [
    {
     "data": {
      "text/plain": [
       "{'a': 'some value'}"
      ]
     },
     "execution_count": 11,
     "metadata": {},
     "output_type": "execute_result"
    }
   ],
   "source": [
    "d1"
   ]
  },
  {
   "cell_type": "code",
   "execution_count": null,
   "metadata": {},
   "outputs": [],
   "source": []
  },
  {
   "cell_type": "code",
   "execution_count": 12,
   "metadata": {},
   "outputs": [
    {
     "data": {
      "text/plain": [
       "{'a': 'SNULab', 'b': 'PSYC Dept', 'c': 'Hahn Lab'}"
      ]
     },
     "execution_count": 12,
     "metadata": {},
     "output_type": "execute_result"
    }
   ],
   "source": [
    "#updating dicts\n",
    "d1.update({'a' : 'SNU', 'b' : 'PSYC Dept', 'c' : 'Hahn Lab'})\n",
    "d1"
   ]
  },
  {
   "cell_type": "code",
   "execution_count": null,
   "metadata": {},
   "outputs": [],
   "source": []
  },
  {
   "cell_type": "code",
   "execution_count": null,
   "metadata": {},
   "outputs": [],
   "source": []
  },
  {
   "cell_type": "code",
   "execution_count": 13,
   "metadata": {},
   "outputs": [
    {
     "data": {
      "text/plain": [
       "{0: 4, 1: 3, 2: 2, 3: 1, 4: 0}"
      ]
     },
     "execution_count": 13,
     "metadata": {},
     "output_type": "execute_result"
    }
   ],
   "source": [
    "# Creating dicts from sequences\n",
    "mapping = dict(zip(range(5), reversed(range(5))))\n",
    "mapping"
   ]
  },
  {
   "cell_type": "code",
   "execution_count": null,
   "metadata": {},
   "outputs": [],
   "source": []
  },
  {
   "cell_type": "code",
   "execution_count": 14,
   "metadata": {},
   "outputs": [
    {
     "data": {
      "text/plain": [
       "{'a': 'hihi', 'b': 'hello', 'c': 'hola'}"
      ]
     },
     "execution_count": 14,
     "metadata": {},
     "output_type": "execute_result"
    }
   ],
   "source": [
    "# Suppose you had 2 tuples you wanted to pair up and make into a dict\n",
    "key_list = ('a', 'b', 'c')\n",
    "value_list = ('hihi', 'hello', 'hola')\n",
    "mapping2 = {} \n",
    "for key, value in zip(key_list, value_list):\n",
    "    mapping2[key] = value\n",
    "mapping2"
   ]
  },
  {
   "cell_type": "markdown",
   "metadata": {},
   "source": [
    "<div class = \"alert alert-block alert-info\">\n",
    "<font color = black>\n",
    "    <b>Valid dict key types (hashability)</b> <br>\n",
    "Keys have to be immutable objects like scalar types (int, float, string) or tuples (all the objects in the tuple need to be immutable, too) <br>\n",
    "You can check whether an object is hashable with the hash function \n",
    "</font>\n",
    "</div>\n",
    "\n"
   ]
  },
  {
   "attachments": {
    "Set%20Operations%20.jpg": {
     "image/jpeg": "[encoded data removed]"
    }
   },
   "cell_type": "markdown",
   "metadata": {},
   "source": [
    "## 2. Set (집합) \n",
    "<div class= \"alert alert-block alert-info\"> \n",
    "<font color = black>\n",
    "- Definition : An unordered collection of unique elements (Similiar to dicts, but keys only, no values) \n",
    "<br> -  Characteristics: 1. 중복을 허용하지 않는다(No duplicates)\n",
    "    <br><div style =\"margin-left:110px\">    2. 순서가 없다 (Unordered) \n",
    "    <br> 3. Set itself is mutable, but elements cannot be mutable </div>\n",
    "- Uses: Perform mathematical set operations like union(합집합), intersection(교집합), symmetric difference(차집합) etc. \n",
    "<br> - Creating a set: Similar to creating a dict (use curly braces, but no value) \n",
    "</div>\n",
    "</font>\n",
    "\n",
    "![Set%20Operations%20.jpg](attachment:Set%20Operations%20.jpg) \n",
    "\n",
    "###### [ Click here for more examples and graphical representations of union, intersection, difference](https://www.programiz.com/python-programming/set)\n"
   ]
  },
  {
   "cell_type": "code",
   "execution_count": 15,
   "metadata": {},
   "outputs": [
    {
     "data": {
      "text/plain": [
       "{1, 2, 3}"
      ]
     },
     "execution_count": 15,
     "metadata": {},
     "output_type": "execute_result"
    }
   ],
   "source": [
    "# creating set examples through set literal\n",
    "set([2, 2, 2, 1, 3, 3])"
   ]
  },
  {
   "cell_type": "code",
   "execution_count": 16,
   "metadata": {},
   "outputs": [
    {
     "data": {
      "text/plain": [
       "{'Department', 'PSYC', 'SNU'}"
      ]
     },
     "execution_count": 16,
     "metadata": {},
     "output_type": "execute_result"
    }
   ],
   "source": [
    "# Another method of creating a set through curly braces\n",
    "{'SNU', 'SNU', 'PSYC', 'Department'}"
   ]
  },
  {
   "cell_type": "code",
   "execution_count": null,
   "metadata": {},
   "outputs": [],
   "source": []
  },
  {
   "cell_type": "code",
   "execution_count": 17,
   "metadata": {},
   "outputs": [],
   "source": [
    "a = {1, 2, 3, 4, 5}\n",
    "b = {3, 4, 5, 6, 7, 8}"
   ]
  },
  {
   "cell_type": "code",
   "execution_count": null,
   "metadata": {},
   "outputs": [],
   "source": []
  },
  {
   "cell_type": "code",
   "execution_count": 18,
   "metadata": {},
   "outputs": [
    {
     "data": {
      "text/plain": [
       "{1, 2, 3, 4, 5, 6, 7, 8}"
      ]
     },
     "execution_count": 18,
     "metadata": {},
     "output_type": "execute_result"
    }
   ],
   "source": [
    "# Prints all unique elements in a and b \n",
    "a.union(b) \n",
    "#or \n",
    "a | b"
   ]
  },
  {
   "cell_type": "code",
   "execution_count": null,
   "metadata": {},
   "outputs": [],
   "source": []
  },
  {
   "cell_type": "code",
   "execution_count": 19,
   "metadata": {},
   "outputs": [
    {
     "data": {
      "text/plain": [
       "{3, 4, 5}"
      ]
     },
     "execution_count": 19,
     "metadata": {},
     "output_type": "execute_result"
    }
   ],
   "source": [
    "# Prints all elements in both a and b \n",
    "a.intersection(b)\n",
    "#or \n",
    "a & b"
   ]
  },
  {
   "cell_type": "code",
   "execution_count": 20,
   "metadata": {},
   "outputs": [
    {
     "data": {
      "text/plain": [
       "{1, 2}"
      ]
     },
     "execution_count": 20,
     "metadata": {},
     "output_type": "execute_result"
    }
   ],
   "source": [
    "# Prints elements in a that are not in b\n",
    "a.difference(b)\n",
    "#or\n",
    "a - b"
   ]
  },
  {
   "cell_type": "code",
   "execution_count": null,
   "metadata": {},
   "outputs": [],
   "source": []
  },
  {
   "cell_type": "code",
   "execution_count": 21,
   "metadata": {},
   "outputs": [
    {
     "data": {
      "text/plain": [
       "{6, 7, 8}"
      ]
     },
     "execution_count": 21,
     "metadata": {},
     "output_type": "execute_result"
    }
   ],
   "source": [
    "# Prints elements in b that are not in a \n",
    "b.difference(a)\n",
    "#or\n",
    "b - a"
   ]
  },
  {
   "cell_type": "markdown",
   "metadata": {},
   "source": [
    "## 3.  List, Set, and Dict comprehensions \n",
    " \n",
    "##### This feature allow you to make codes easier to write and read "
   ]
  },
  {
   "cell_type": "code",
   "execution_count": null,
   "metadata": {},
   "outputs": [],
   "source": [
    "# EXAMPLE NOT ACTUAL CODE \n",
    "#basic form \n",
    "[expression for item in list if condtional]\n",
    "\n",
    "#is equivalent to \n",
    "\n",
    "for item in list: \n",
    "    if conditional: \n",
    "        expression \n",
    "\n",
    "# if condtion can be left out "
   ]
  },
  {
   "cell_type": "code",
   "execution_count": 23,
   "metadata": {},
   "outputs": [
    {
     "data": {
      "text/plain": [
       "[1, 2, 3, 4, 5, 6, 7, 8, 9, 10]"
      ]
     },
     "execution_count": 23,
     "metadata": {},
     "output_type": "execute_result"
    }
   ],
   "source": [
    "a = [n for n in range(1,11)]\n",
    "a"
   ]
  },
  {
   "cell_type": "code",
   "execution_count": 24,
   "metadata": {},
   "outputs": [
    {
     "data": {
      "text/plain": [
       "[1, 2, 3, 4, 5, 6, 7, 8, 9, 10]"
      ]
     },
     "execution_count": 24,
     "metadata": {},
     "output_type": "execute_result"
    }
   ],
   "source": [
    "a = [] \n",
    "for n in range(1,11):\n",
    "    a.append(n)\n",
    "a"
   ]
  },
  {
   "cell_type": "code",
   "execution_count": null,
   "metadata": {},
   "outputs": [],
   "source": [
    "# EXAMPLE NOT ACTUAL CODE \n",
    "# Set comprehension\n",
    "set_comp = {expression for value in collection if condition}"
   ]
  },
  {
   "cell_type": "code",
   "execution_count": null,
   "metadata": {},
   "outputs": [],
   "source": [
    "# EXAMPLE NOT ACTUAL CODE \n",
    "# Dict comprehension\n",
    "dict_comp = {key_expression : value_expression for value in collection if condition}"
   ]
  }
 ],
 "metadata": {
  "kernelspec": {
   "display_name": "Python 3",
   "language": "python",
   "name": "python3"
  },
  "language_info": {
   "codemirror_mode": {
    "name": "ipython",
    "version": 3
   },
   "file_extension": ".py",
   "mimetype": "text/x-python",
   "name": "python",
   "nbconvert_exporter": "python",
   "pygments_lexer": "ipython3",
   "version": "3.7.3"
  }
 },
 "nbformat": 4,
 "nbformat_minor": 2
}
